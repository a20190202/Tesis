{
 "cells": [
  {
   "cell_type": "markdown",
   "metadata": {},
   "source": [
    "# Recopilacion automatica de imagenes de modelos de automoviles"
   ]
  },
  {
   "cell_type": "markdown",
   "metadata": {},
   "source": [
    "## 1. Descarga con BING"
   ]
  },
  {
   "cell_type": "code",
   "execution_count": 1,
   "metadata": {},
   "outputs": [],
   "source": [
    "import csv\n",
    "import os\n",
    "import subprocess\n",
    "import urllib.parse"
   ]
  },
  {
   "cell_type": "code",
   "execution_count": null,
   "metadata": {},
   "outputs": [],
   "source": [
    "\n",
    "\n",
    "def download_car_images(csv_file, parent_directory, num_images):\n",
    "    download_script = 'bing_images_download.py'\n",
    "    chromedriver_path = 'D:\\\\Tesis\\\\chromedriver-win64\\\\chromedriver-win64\\\\chromedriver.exe'\n",
    "\n",
    "    if not os.path.exists(parent_directory):\n",
    "        os.makedirs(parent_directory)\n",
    "\n",
    "    with open(csv_file, newline='', encoding='utf-8') as f:\n",
    "        reader = csv.DictReader(f)\n",
    "        for i, row in enumerate(reader):\n",
    "            marca = row['Marca'].strip()\n",
    "            modelo = row['Modelo'].strip()\n",
    "            #modelo_folder_name = modelo.replace(' ', '_')\n",
    "            modelo_folder_name = modelo\n",
    "\n",
    "            marca_path = os.path.join(parent_directory, marca)\n",
    "            modelo_path = os.path.join(marca_path, modelo_folder_name)\n",
    "\n",
    "            os.makedirs(modelo_path, exist_ok=True)\n",
    "\n",
    "            query = f\"{modelo}\"\n",
    "            query_encoded = urllib.parse.quote_plus(query)\n",
    "            search_url = f\"https://www.bing.com/images/search?q={query_encoded}&form=RESTAB&first=1\"\n",
    "\n",
    "            cmd = [\n",
    "                'python', download_script,\n",
    "                '-o', marca_path,\n",
    "                '-i', modelo_folder_name,\n",
    "                '-u', search_url,\n",
    "                '-l', str(num_images),\n",
    "                '-cd', chromedriver_path\n",
    "            ]\n",
    "\n",
    "            print(\"Running command:\", \" \".join(cmd))\n",
    "            subprocess.run(cmd)\n",
    "\n"
   ]
  },
  {
   "cell_type": "code",
   "execution_count": 6,
   "metadata": {},
   "outputs": [
    {
     "name": "stdout",
     "output_type": "stream",
     "text": [
      "Running command: python bing_images_download.py -o bing-model-images\\TOYOTA -i Toyota Hilux -u https://www.bing.com/images/search?q=Toyota+Hilux&form=RESTAB&first=1 -l 100 -cd D:\\Tesis\\chromedriver-win64\\chromedriver-win64\\chromedriver.exe\n",
      "Running command: python bing_images_download.py -o bing-model-images\\TOYOTA -i Toyota Yaris -u https://www.bing.com/images/search?q=Toyota+Yaris&form=RESTAB&first=1 -l 100 -cd D:\\Tesis\\chromedriver-win64\\chromedriver-win64\\chromedriver.exe\n",
      "Running command: python bing_images_download.py -o bing-model-images\\TOYOTA -i Toyota Corolla -u https://www.bing.com/images/search?q=Toyota+Corolla&form=RESTAB&first=1 -l 100 -cd D:\\Tesis\\chromedriver-win64\\chromedriver-win64\\chromedriver.exe\n",
      "Running command: python bing_images_download.py -o bing-model-images\\TOYOTA -i Toyota RAV4 -u https://www.bing.com/images/search?q=Toyota+RAV4&form=RESTAB&first=1 -l 100 -cd D:\\Tesis\\chromedriver-win64\\chromedriver-win64\\chromedriver.exe\n",
      "Running command: python bing_images_download.py -o bing-model-images\\TOYOTA -i Toyota Rush -u https://www.bing.com/images/search?q=Toyota+Rush&form=RESTAB&first=1 -l 100 -cd D:\\Tesis\\chromedriver-win64\\chromedriver-win64\\chromedriver.exe\n",
      "Running command: python bing_images_download.py -o bing-model-images\\TOYOTA -i Toyota Land Cruiser -u https://www.bing.com/images/search?q=Toyota+Land+Cruiser&form=RESTAB&first=1 -l 100 -cd D:\\Tesis\\chromedriver-win64\\chromedriver-win64\\chromedriver.exe\n",
      "Running command: python bing_images_download.py -o bing-model-images\\TOYOTA -i Toyota Supra -u https://www.bing.com/images/search?q=Toyota+Supra&form=RESTAB&first=1 -l 100 -cd D:\\Tesis\\chromedriver-win64\\chromedriver-win64\\chromedriver.exe\n",
      "Running command: python bing_images_download.py -o bing-model-images\\TOYOTA -i Toyota Corolla Cross -u https://www.bing.com/images/search?q=Toyota+Corolla+Cross&form=RESTAB&first=1 -l 100 -cd D:\\Tesis\\chromedriver-win64\\chromedriver-win64\\chromedriver.exe\n",
      "Running command: python bing_images_download.py -o bing-model-images\\TOYOTA -i Toyota Tercel -u https://www.bing.com/images/search?q=Toyota+Tercel&form=RESTAB&first=1 -l 100 -cd D:\\Tesis\\chromedriver-win64\\chromedriver-win64\\chromedriver.exe\n",
      "Running command: python bing_images_download.py -o bing-model-images\\TOYOTA -i Toyota 4Runner -u https://www.bing.com/images/search?q=Toyota+4Runner&form=RESTAB&first=1 -l 100 -cd D:\\Tesis\\chromedriver-win64\\chromedriver-win64\\chromedriver.exe\n",
      "Running command: python bing_images_download.py -o bing-model-images\\TOYOTA -i Toyota Celica -u https://www.bing.com/images/search?q=Toyota+Celica&form=RESTAB&first=1 -l 100 -cd D:\\Tesis\\chromedriver-win64\\chromedriver-win64\\chromedriver.exe\n",
      "Running command: python bing_images_download.py -o bing-model-images\\TOYOTA -i Toyota FJ Cruiser -u https://www.bing.com/images/search?q=Toyota+FJ+Cruiser&form=RESTAB&first=1 -l 100 -cd D:\\Tesis\\chromedriver-win64\\chromedriver-win64\\chromedriver.exe\n",
      "Running command: python bing_images_download.py -o bing-model-images\\TOYOTA -i Toyota C-HR -u https://www.bing.com/images/search?q=Toyota+C-HR&form=RESTAB&first=1 -l 100 -cd D:\\Tesis\\chromedriver-win64\\chromedriver-win64\\chromedriver.exe\n",
      "Running command: python bing_images_download.py -o bing-model-images\\TOYOTA -i Toyota Camry -u https://www.bing.com/images/search?q=Toyota+Camry&form=RESTAB&first=1 -l 100 -cd D:\\Tesis\\chromedriver-win64\\chromedriver-win64\\chromedriver.exe\n",
      "Running command: python bing_images_download.py -o bing-model-images\\TOYOTA -i Toyota Prius -u https://www.bing.com/images/search?q=Toyota+Prius&form=RESTAB&first=1 -l 100 -cd D:\\Tesis\\chromedriver-win64\\chromedriver-win64\\chromedriver.exe\n",
      "Running command: python bing_images_download.py -o bing-model-images\\HYUNDAI -i Hyundai Accent -u https://www.bing.com/images/search?q=Hyundai+Accent&form=RESTAB&first=1 -l 100 -cd D:\\Tesis\\chromedriver-win64\\chromedriver-win64\\chromedriver.exe\n",
      "Running command: python bing_images_download.py -o bing-model-images\\HYUNDAI -i Hyundai Elantra -u https://www.bing.com/images/search?q=Hyundai+Elantra&form=RESTAB&first=1 -l 100 -cd D:\\Tesis\\chromedriver-win64\\chromedriver-win64\\chromedriver.exe\n",
      "Running command: python bing_images_download.py -o bing-model-images\\HYUNDAI -i Hyundai Tucson -u https://www.bing.com/images/search?q=Hyundai+Tucson&form=RESTAB&first=1 -l 100 -cd D:\\Tesis\\chromedriver-win64\\chromedriver-win64\\chromedriver.exe\n",
      "Running command: python bing_images_download.py -o bing-model-images\\HYUNDAI -i Hyundai Santa Fe -u https://www.bing.com/images/search?q=Hyundai+Santa+Fe&form=RESTAB&first=1 -l 100 -cd D:\\Tesis\\chromedriver-win64\\chromedriver-win64\\chromedriver.exe\n",
      "Running command: python bing_images_download.py -o bing-model-images\\HYUNDAI -i Hyundai Creta -u https://www.bing.com/images/search?q=Hyundai+Creta&form=RESTAB&first=1 -l 100 -cd D:\\Tesis\\chromedriver-win64\\chromedriver-win64\\chromedriver.exe\n",
      "Running command: python bing_images_download.py -o bing-model-images\\HYUNDAI -i Hyundai i20 -u https://www.bing.com/images/search?q=Hyundai+i20&form=RESTAB&first=1 -l 100 -cd D:\\Tesis\\chromedriver-win64\\chromedriver-win64\\chromedriver.exe\n",
      "Running command: python bing_images_download.py -o bing-model-images\\HYUNDAI -i Hyundai Sonata -u https://www.bing.com/images/search?q=Hyundai+Sonata&form=RESTAB&first=1 -l 100 -cd D:\\Tesis\\chromedriver-win64\\chromedriver-win64\\chromedriver.exe\n",
      "Running command: python bing_images_download.py -o bing-model-images\\HYUNDAI -i Hyundai Veloster -u https://www.bing.com/images/search?q=Hyundai+Veloster&form=RESTAB&first=1 -l 100 -cd D:\\Tesis\\chromedriver-win64\\chromedriver-win64\\chromedriver.exe\n",
      "Running command: python bing_images_download.py -o bing-model-images\\KIA -i Kia Rio -u https://www.bing.com/images/search?q=Kia+Rio&form=RESTAB&first=1 -l 100 -cd D:\\Tesis\\chromedriver-win64\\chromedriver-win64\\chromedriver.exe\n",
      "Running command: python bing_images_download.py -o bing-model-images\\KIA -i Kia Sportage -u https://www.bing.com/images/search?q=Kia+Sportage&form=RESTAB&first=1 -l 100 -cd D:\\Tesis\\chromedriver-win64\\chromedriver-win64\\chromedriver.exe\n",
      "Running command: python bing_images_download.py -o bing-model-images\\KIA -i Kia Sorento -u https://www.bing.com/images/search?q=Kia+Sorento&form=RESTAB&first=1 -l 100 -cd D:\\Tesis\\chromedriver-win64\\chromedriver-win64\\chromedriver.exe\n",
      "Running command: python bing_images_download.py -o bing-model-images\\KIA -i Kia Seltos -u https://www.bing.com/images/search?q=Kia+Seltos&form=RESTAB&first=1 -l 100 -cd D:\\Tesis\\chromedriver-win64\\chromedriver-win64\\chromedriver.exe\n",
      "Running command: python bing_images_download.py -o bing-model-images\\KIA -i Kia Soul -u https://www.bing.com/images/search?q=Kia+Soul&form=RESTAB&first=1 -l 100 -cd D:\\Tesis\\chromedriver-win64\\chromedriver-win64\\chromedriver.exe\n",
      "Running command: python bing_images_download.py -o bing-model-images\\KIA -i Kia Niro -u https://www.bing.com/images/search?q=Kia+Niro&form=RESTAB&first=1 -l 100 -cd D:\\Tesis\\chromedriver-win64\\chromedriver-win64\\chromedriver.exe\n",
      "Running command: python bing_images_download.py -o bing-model-images\\CHEVROLET -i Chevrolet Camaro -u https://www.bing.com/images/search?q=Chevrolet+Camaro&form=RESTAB&first=1 -l 100 -cd D:\\Tesis\\chromedriver-win64\\chromedriver-win64\\chromedriver.exe\n",
      "Running command: python bing_images_download.py -o bing-model-images\\CHEVROLET -i Chevrolet Onix -u https://www.bing.com/images/search?q=Chevrolet+Onix&form=RESTAB&first=1 -l 100 -cd D:\\Tesis\\chromedriver-win64\\chromedriver-win64\\chromedriver.exe\n",
      "Running command: python bing_images_download.py -o bing-model-images\\CHEVROLET -i Chevrolet Spark -u https://www.bing.com/images/search?q=Chevrolet+Spark&form=RESTAB&first=1 -l 100 -cd D:\\Tesis\\chromedriver-win64\\chromedriver-win64\\chromedriver.exe\n",
      "Running command: python bing_images_download.py -o bing-model-images\\CHEVROLET -i Chevrolet Cruze -u https://www.bing.com/images/search?q=Chevrolet+Cruze&form=RESTAB&first=1 -l 100 -cd D:\\Tesis\\chromedriver-win64\\chromedriver-win64\\chromedriver.exe\n",
      "Running command: python bing_images_download.py -o bing-model-images\\CHEVROLET -i Chevrolet Tracker -u https://www.bing.com/images/search?q=Chevrolet+Tracker&form=RESTAB&first=1 -l 100 -cd D:\\Tesis\\chromedriver-win64\\chromedriver-win64\\chromedriver.exe\n",
      "Running command: python bing_images_download.py -o bing-model-images\\CHANGAN -i Changan CS35 -u https://www.bing.com/images/search?q=Changan+CS35&form=RESTAB&first=1 -l 100 -cd D:\\Tesis\\chromedriver-win64\\chromedriver-win64\\chromedriver.exe\n",
      "Running command: python bing_images_download.py -o bing-model-images\\CHANGAN -i Changan CS55 -u https://www.bing.com/images/search?q=Changan+CS55&form=RESTAB&first=1 -l 100 -cd D:\\Tesis\\chromedriver-win64\\chromedriver-win64\\chromedriver.exe\n",
      "Running command: python bing_images_download.py -o bing-model-images\\CHANGAN -i Changan New Van -u https://www.bing.com/images/search?q=Changan+New+Van&form=RESTAB&first=1 -l 100 -cd D:\\Tesis\\chromedriver-win64\\chromedriver-win64\\chromedriver.exe\n",
      "Running command: python bing_images_download.py -o bing-model-images\\NISSAN -i Nissan Sentra -u https://www.bing.com/images/search?q=Nissan+Sentra&form=RESTAB&first=1 -l 100 -cd D:\\Tesis\\chromedriver-win64\\chromedriver-win64\\chromedriver.exe\n",
      "Running command: python bing_images_download.py -o bing-model-images\\NISSAN -i Nissan Versa -u https://www.bing.com/images/search?q=Nissan+Versa&form=RESTAB&first=1 -l 100 -cd D:\\Tesis\\chromedriver-win64\\chromedriver-win64\\chromedriver.exe\n",
      "Running command: python bing_images_download.py -o bing-model-images\\NISSAN -i Nissan Kicks -u https://www.bing.com/images/search?q=Nissan+Kicks&form=RESTAB&first=1 -l 100 -cd D:\\Tesis\\chromedriver-win64\\chromedriver-win64\\chromedriver.exe\n",
      "Running command: python bing_images_download.py -o bing-model-images\\SUZUKI -i Suzuki Vitara -u https://www.bing.com/images/search?q=Suzuki+Vitara&form=RESTAB&first=1 -l 100 -cd D:\\Tesis\\chromedriver-win64\\chromedriver-win64\\chromedriver.exe\n",
      "Running command: python bing_images_download.py -o bing-model-images\\SUZUKI -i Suzuki Swift -u https://www.bing.com/images/search?q=Suzuki+Swift&form=RESTAB&first=1 -l 100 -cd D:\\Tesis\\chromedriver-win64\\chromedriver-win64\\chromedriver.exe\n",
      "Running command: python bing_images_download.py -o bing-model-images\\SUZUKI -i Suzuki Jimny -u https://www.bing.com/images/search?q=Suzuki+Jimny&form=RESTAB&first=1 -l 100 -cd D:\\Tesis\\chromedriver-win64\\chromedriver-win64\\chromedriver.exe\n",
      "Running command: python bing_images_download.py -o bing-model-images\\DFSK -i Glory 580 -u https://www.bing.com/images/search?q=Glory+580&form=RESTAB&first=1 -l 100 -cd D:\\Tesis\\chromedriver-win64\\chromedriver-win64\\chromedriver.exe\n",
      "Running command: python bing_images_download.py -o bing-model-images\\DFSK -i Glory 500 -u https://www.bing.com/images/search?q=Glory+500&form=RESTAB&first=1 -l 100 -cd D:\\Tesis\\chromedriver-win64\\chromedriver-win64\\chromedriver.exe\n",
      "Running command: python bing_images_download.py -o bing-model-images\\DFSK -i Glory 330 -u https://www.bing.com/images/search?q=Glory+330&form=RESTAB&first=1 -l 100 -cd D:\\Tesis\\chromedriver-win64\\chromedriver-win64\\chromedriver.exe\n",
      "Running command: python bing_images_download.py -o bing-model-images\\JAC -i JAC T8 -u https://www.bing.com/images/search?q=JAC+T8&form=RESTAB&first=1 -l 100 -cd D:\\Tesis\\chromedriver-win64\\chromedriver-win64\\chromedriver.exe\n",
      "Running command: python bing_images_download.py -o bing-model-images\\JAC -i JAC JS4 -u https://www.bing.com/images/search?q=JAC+JS4&form=RESTAB&first=1 -l 100 -cd D:\\Tesis\\chromedriver-win64\\chromedriver-win64\\chromedriver.exe\n",
      "Running command: python bing_images_download.py -o bing-model-images\\VOLKSWAGEN -i Volkswagen Golf -u https://www.bing.com/images/search?q=Volkswagen+Golf&form=RESTAB&first=1 -l 100 -cd D:\\Tesis\\chromedriver-win64\\chromedriver-win64\\chromedriver.exe\n",
      "Running command: python bing_images_download.py -o bing-model-images\\VOLKSWAGEN -i Volkswagen Tiguan -u https://www.bing.com/images/search?q=Volkswagen+Tiguan&form=RESTAB&first=1 -l 100 -cd D:\\Tesis\\chromedriver-win64\\chromedriver-win64\\chromedriver.exe\n"
     ]
    }
   ],
   "source": [
    "download_car_images('new-top-50-models.csv', 'bing-model-images', 100)"
   ]
  }
 ],
 "metadata": {
  "kernelspec": {
   "display_name": "base",
   "language": "python",
   "name": "python3"
  },
  "language_info": {
   "codemirror_mode": {
    "name": "ipython",
    "version": 3
   },
   "file_extension": ".py",
   "mimetype": "text/x-python",
   "name": "python",
   "nbconvert_exporter": "python",
   "pygments_lexer": "ipython3",
   "version": "3.12.3"
  }
 },
 "nbformat": 4,
 "nbformat_minor": 2
}
