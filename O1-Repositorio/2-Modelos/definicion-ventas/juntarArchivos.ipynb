{
 "cells": [
  {
   "cell_type": "code",
   "execution_count": 1,
   "metadata": {},
   "outputs": [],
   "source": [
    "import pandas\n"
   ]
  },
  {
   "cell_type": "code",
   "execution_count": 6,
   "metadata": {},
   "outputs": [],
   "source": [
    "import os\n",
    "import pandas as pd\n",
    "\n",
    "# Define the directory where the CSV files are stored\n",
    "csv_directory = r'C:\\PythonProjects\\yearmakemodel\\us-car-models-data-master'\n",
    "\n",
    "# List of selected makes (converted to lowercase for case-insensitive comparison)\n",
    "selected_makes = ['toyota', 'hyundai', 'kia', 'chevrolet', 'changan', 'dfsk', \n",
    "                  'nissan', 'suzuki', 'jac', 'ford', 'mitsubishi', 'jetour', \n",
    "                  'chery', 'geely', 'honda', 'volkswagen', 'mazda', 'subaru', \n",
    "                  'mg', 'great wall']\n",
    "\n",
    "# Initialize an empty DataFrame to store the filtered data\n",
    "filtered_data = pd.DataFrame()\n",
    "\n",
    "# Loop through the years and process each CSV file\n",
    "for year in range(1992, 2027):  # Adjust range for years\n",
    "    csv_file = os.path.join(csv_directory, f'{year}.csv')\n",
    "    \n",
    "    if os.path.exists(csv_file):\n",
    "        # Read the CSV file\n",
    "        df = pd.read_csv(csv_file)\n",
    "\n",
    "        #print(df.columns)\n",
    "        \n",
    "        # Ensure that the make column is lowercase for case-insensitive comparison\n",
    "        df['make'] = df['make'].str.lower()\n",
    "        \n",
    "        # Filter rows where the make (in lowercase) is in the selected makes list\n",
    "        df_filtered = df[df['make'].isin(selected_makes)]\n",
    "        \n",
    "        # Append the filtered data to the main DataFrame\n",
    "        filtered_data = pd.concat([filtered_data, df_filtered], ignore_index=True)\n",
    "\n",
    "# Save the filtered data to a new CSV file\n",
    "filtered_data.to_csv('models.csv', index=False)\n"
   ]
  },
  {
   "cell_type": "code",
   "execution_count": null,
   "metadata": {},
   "outputs": [],
   "source": []
  }
 ],
 "metadata": {
  "kernelspec": {
   "display_name": "yolo",
   "language": "python",
   "name": "python3"
  },
  "language_info": {
   "codemirror_mode": {
    "name": "ipython",
    "version": 3
   },
   "file_extension": ".py",
   "mimetype": "text/x-python",
   "name": "python",
   "nbconvert_exporter": "python",
   "pygments_lexer": "ipython3",
   "version": "3.11.9"
  }
 },
 "nbformat": 4,
 "nbformat_minor": 2
}
