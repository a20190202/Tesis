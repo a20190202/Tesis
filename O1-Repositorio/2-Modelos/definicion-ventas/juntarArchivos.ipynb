{
 "cells": [
  {
   "cell_type": "markdown",
   "metadata": {},
   "source": [
    "# Version 1"
   ]
  },
  {
   "cell_type": "code",
   "execution_count": null,
   "metadata": {},
   "outputs": [],
   "source": [
    "import os\n",
    "import pandas as pd\n",
    "\n",
    "# Define the directory where the CSV files are stored\n",
    "csv_directory = r'us-car-models-data-master'\n",
    "\n",
    "# List of selected makes (converted to lowercase for case-insensitive comparison)\n",
    "selected_makes = ['toyota', 'hyundai', 'kia', 'chevrolet', 'changan',\n",
    "                  'nissan','suzuki', 'dfsk','jac','volkswagen',\n",
    "                  'mitsubishi', 'ford','chery','mazda', 'renault',\n",
    "                  'honda','great wall','subaru','mg','foton']\n",
    "\n",
    "# Initialize an empty DataFrame to store the filtered data\n",
    "filtered_data = pd.DataFrame()\n",
    "\n",
    "# Loop through the years and process each CSV file\n",
    "for year in range(1992, 2025):  # Adjust range for years\n",
    "    csv_file = os.path.join(csv_directory, f'{year}.csv')\n",
    "    \n",
    "    if os.path.exists(csv_file):\n",
    "        # Read the CSV file\n",
    "        df = pd.read_csv(csv_file)\n",
    "\n",
    "        #print(df.columns)\n",
    "        \n",
    "        # Ensure that the make column is lowercase for case-insensitive comparison\n",
    "        df['make'] = df['make'].str.lower()\n",
    "        \n",
    "        # Filter rows where the make (in lowercase) is in the selected makes list\n",
    "        df_filtered = df[df['make'].isin(selected_makes)]\n",
    "        \n",
    "        # Append the filtered data to the main DataFrame\n",
    "        filtered_data = pd.concat([filtered_data, df_filtered], ignore_index=True)\n",
    "\n",
    "# Save the filtered data to a new CSV file\n",
    "filtered_data.to_csv('new_models.csv', index=False)\n"
   ]
  },
  {
   "cell_type": "markdown",
   "metadata": {},
   "source": [
    "# Version 2"
   ]
  },
  {
   "cell_type": "code",
   "execution_count": 2,
   "metadata": {},
   "outputs": [],
   "source": [
    "import os\n",
    "import pandas as pd\n",
    "\n",
    "# Directorio con los archivos CSV por año\n",
    "csv_directory = r'us-car-models-data-master'\n",
    "\n",
    "# Lista de marcas seleccionadas (en minúsculas)\n",
    "selected_makes = [\n",
    "    'toyota', 'hyundai', 'kia', 'chevrolet', 'changan',\n",
    "    'nissan', 'suzuki', 'dfsk', 'jac', 'volkswagen',\n",
    "    'mitsubishi', 'ford', 'chery', 'mazda', 'renault',\n",
    "    'honda', 'great wall', 'subaru', 'mg', 'foton'\n",
    "]\n",
    "\n",
    "# DataFrame para acumular datos\n",
    "filtered_data = pd.DataFrame()\n",
    "\n",
    "# Leer y filtrar archivos por año\n",
    "for year in range(1992, 2025):\n",
    "    csv_file = os.path.join(csv_directory, f'{year}.csv')\n",
    "    \n",
    "    if os.path.exists(csv_file):\n",
    "        df = pd.read_csv(csv_file)\n",
    "        df['make'] = df['make'].str.lower()\n",
    "        df_filtered = df[df['make'].isin(selected_makes)].copy()\n",
    "        df_filtered['year'] = year  # Agregar columna del año\n",
    "        filtered_data = pd.concat([filtered_data, df_filtered], ignore_index=True)\n",
    "\n",
    "# Guardar los datos filtrados en CSV\n",
    "filtered_data.to_csv('new_models.csv', index=False)\n",
    "\n",
    "# Crear resumen por marca\n",
    "summary = (\n",
    "    filtered_data\n",
    "    .groupby('make')\n",
    "    .agg(\n",
    "        cantidad_modelos=('model', 'nunique'),\n",
    "        años=('year', lambda x: ','.join(map(str, sorted(set(x)))))\n",
    "    )\n",
    "    .reset_index()\n",
    "    .rename(columns={'make': 'marca'})\n",
    ")\n",
    "\n",
    "# Guardar el resumen en un archivo Excel\n",
    "summary.to_excel('resumen_marcas.xlsx', index=False)\n"
   ]
  },
  {
   "cell_type": "code",
   "execution_count": null,
   "metadata": {},
   "outputs": [],
   "source": []
  }
 ],
 "metadata": {
  "kernelspec": {
   "display_name": "base",
   "language": "python",
   "name": "python3"
  },
  "language_info": {
   "codemirror_mode": {
    "name": "ipython",
    "version": 3
   },
   "file_extension": ".py",
   "mimetype": "text/x-python",
   "name": "python",
   "nbconvert_exporter": "python",
   "pygments_lexer": "ipython3",
   "version": "3.12.3"
  }
 },
 "nbformat": 4,
 "nbformat_minor": 2
}
