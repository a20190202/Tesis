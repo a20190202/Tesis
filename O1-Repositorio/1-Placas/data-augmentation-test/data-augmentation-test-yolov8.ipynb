{
 "cells": [
  {
   "cell_type": "code",
   "execution_count": 4,
   "metadata": {},
   "outputs": [],
   "source": [
    "import os\n",
    "import cv2\n",
    "import albumentations as A\n",
    "from albumentations.pytorch import ToTensorV2\n",
    "\n",
    "# Define paths\n",
    "image_path = \"pothole.jpg\"\n",
    "label_path = \"pothole.txt\"\n",
    "output_dir = \"augmented\"\n",
    "os.makedirs(output_dir, exist_ok=True)\n",
    "\n",
    "# Load image\n",
    "image = cv2.imread(image_path)\n",
    "height, width = image.shape[:2]\n",
    "\n",
    "# Load YOLOv8 annotations\n",
    "with open(label_path, \"r\") as f:\n",
    "    bboxes = []\n",
    "    for line in f:\n",
    "        cls, cx, cy, w, h = map(float, line.strip().split())\n",
    "        x_min = (cx - w / 2) * width\n",
    "        y_min = (cy - h / 2) * height\n",
    "        x_max = (cx + w / 2) * width\n",
    "        y_max = (cy + h / 2) * height\n",
    "        bboxes.append([x_min, y_min, x_max, y_max, int(cls)])\n",
    "\n",
    "# Define augmentation pipeline\n",
    "transform = A.Compose([\n",
    "    A.HorizontalFlip(p=0.5),\n",
    "    A.RandomBrightnessContrast(p=0.5),\n",
    "    A.Rotate(limit=15, p=0.5)\n",
    "], bbox_params=A.BboxParams(format='pascal_voc', label_fields=['class_labels']))\n",
    "\n",
    "# Apply augmentations\n",
    "original_name = os.path.splitext(os.path.basename(image_path))[0]\n",
    "for i in range(1, 6):\n",
    "    transformed = transform(image=image, bboxes=[b[:4] for b in bboxes],\n",
    "                            class_labels=[b[4] for b in bboxes])\n",
    "    aug_image = transformed['image']\n",
    "    aug_bboxes = transformed['bboxes']\n",
    "    aug_labels = transformed['class_labels']\n",
    "\n",
    "    aug_filename = f\"{original_name}_{i}.jpg\"\n",
    "    cv2.imwrite(os.path.join(output_dir, aug_filename), aug_image)\n",
    "\n",
    "    # Save annotations in YOLOv8 format\n",
    "    h_img, w_img = aug_image.shape[:2]\n",
    "    yolo_ann = []\n",
    "    for box, cls in zip(aug_bboxes, aug_labels):\n",
    "        x_min, y_min, x_max, y_max = box\n",
    "        cx = ((x_min + x_max) / 2) / w_img\n",
    "        cy = ((y_min + y_max) / 2) / h_img\n",
    "        w = (x_max - x_min) / w_img\n",
    "        h = (y_max - y_min) / h_img\n",
    "        yolo_ann.append(f\"{cls} {cx:.6f} {cy:.6f} {w:.6f} {h:.6f}\")\n",
    "\n",
    "    with open(os.path.join(output_dir, f\"{original_name}_{i}.txt\"), \"w\") as f:\n",
    "        f.write(\"\\n\".join(yolo_ann))\n"
   ]
  },
  {
   "cell_type": "code",
   "execution_count": null,
   "metadata": {},
   "outputs": [],
   "source": []
  }
 ],
 "metadata": {
  "kernelspec": {
   "display_name": "base",
   "language": "python",
   "name": "python3"
  },
  "language_info": {
   "codemirror_mode": {
    "name": "ipython",
    "version": 3
   },
   "file_extension": ".py",
   "mimetype": "text/x-python",
   "name": "python",
   "nbconvert_exporter": "python",
   "pygments_lexer": "ipython3",
   "version": "3.12.3"
  }
 },
 "nbformat": 4,
 "nbformat_minor": 2
}
