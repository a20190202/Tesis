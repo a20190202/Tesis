{
 "cells": [
  {
   "cell_type": "markdown",
   "id": "34354472",
   "metadata": {},
   "source": [
    "# Preprocesamiento III"
   ]
  },
  {
   "cell_type": "markdown",
   "id": "bf99e006",
   "metadata": {},
   "source": [
    "## 5. Data Augmentation"
   ]
  },
  {
   "cell_type": "markdown",
   "id": "92575cf3",
   "metadata": {},
   "source": [
    "### 5.1 Aplicacion"
   ]
  },
  {
   "cell_type": "code",
   "execution_count": 2,
   "id": "d95bfef9",
   "metadata": {},
   "outputs": [],
   "source": [
    "import os\n",
    "import json\n",
    "import cv2\n",
    "import albumentations as A\n",
    "from pathlib import Path\n",
    "from tqdm import tqdm\n",
    "from copy import deepcopy"
   ]
  },
  {
   "cell_type": "code",
   "execution_count": 17,
   "id": "3345b402",
   "metadata": {},
   "outputs": [],
   "source": [
    "\n",
    "\n",
    "def create_subset_data_augmentation(\n",
    "    image_folder_path,\n",
    "    coco_json_path,\n",
    "    output_image_folder_path,\n",
    "    output_json_path,\n",
    "    num_augmentations\n",
    "):\n",
    "    \"\"\"\n",
    "    Applies data augmentation to images based on COCO annotations and saves the augmented images and new annotations.\n",
    "\n",
    "    Parameters:\n",
    "        image_folder_path (str): Path to the original image folder.\n",
    "        coco_json_path (str): Path to the original COCO JSON annotations.\n",
    "        output_image_folder_path (str): Directory to save augmented images.\n",
    "        output_json_path (str): Path to save the new COCO JSON file.\n",
    "        num_augmentations (int): Number of augmentations to apply per image.\n",
    "    \"\"\"\n",
    "    os.makedirs(output_image_folder_path, exist_ok=True)\n",
    "\n",
    "    with open(coco_json_path, 'r', encoding='utf-8') as f:\n",
    "        coco = json.load(f)\n",
    "\n",
    "    transform = A.Compose([\n",
    "        A.ShiftScaleRotate(shift_limit=0.05, scale_limit=0.05, rotate_limit=10, p=0.9),\n",
    "        A.RandomBrightnessContrast(brightness_limit=0.1, contrast_limit=0.1, p=0.5),\n",
    "        A.MotionBlur(blur_limit=3, p=0.3)\n",
    "    ], bbox_params=A.BboxParams(format='coco', label_fields=['category_ids']))\n",
    "\n",
    "    new_images = []\n",
    "    new_annotations = []\n",
    "    new_image_id = max(img['id'] for img in coco['images']) + 1\n",
    "    new_annotation_id = max(ann['id'] for ann in coco['annotations']) + 1\n",
    "\n",
    "    image_id_to_anns = {}\n",
    "    for ann in coco['annotations']:\n",
    "        image_id_to_anns.setdefault(ann['image_id'], []).append(ann)\n",
    "\n",
    "    for img_info in tqdm(coco['images'], desc=\"Augmenting images\"):\n",
    "        img_path = os.path.join(image_folder_path, img_info['file_name'])\n",
    "        image = cv2.imread(img_path)\n",
    "        if image is None:\n",
    "            continue\n",
    "\n",
    "        anns = image_id_to_anns.get(img_info['id'], [])\n",
    "        bboxes = [ann['bbox'] for ann in anns]\n",
    "        category_ids = [ann['category_id'] for ann in anns]\n",
    "\n",
    "        if not bboxes:\n",
    "            continue\n",
    "\n",
    "        for i in range(1, num_augmentations + 1):\n",
    "            transformed = transform(image=image, bboxes=bboxes, category_ids=category_ids)\n",
    "            aug_file_name = f\"{Path(img_info['file_name']).stem}_aug-{i}{Path(img_info['file_name']).suffix}\"\n",
    "            aug_path = os.path.join(output_image_folder_path, aug_file_name)\n",
    "\n",
    "            cv2.imwrite(aug_path, transformed['image'])\n",
    "\n",
    "            new_images.append({\n",
    "                \"id\": new_image_id,\n",
    "                \"file_name\": aug_file_name,\n",
    "                \"width\": img_info['width'],\n",
    "                \"height\": img_info['height']\n",
    "            })\n",
    "\n",
    "            for bbox, cat_id in zip(transformed['bboxes'], transformed['category_ids']):\n",
    "                new_annotations.append({\n",
    "                    \"id\": new_annotation_id,\n",
    "                    \"image_id\": new_image_id,\n",
    "                    \"category_id\": cat_id,\n",
    "                    \"bbox\": bbox,\n",
    "                    \"iscrowd\": 0,\n",
    "                    \"area\": bbox[2] * bbox[3]\n",
    "                })\n",
    "                new_annotation_id += 1\n",
    "\n",
    "            new_image_id += 1\n",
    "\n",
    "    augmented_coco = {\n",
    "        \"images\": new_images,\n",
    "        \"annotations\": new_annotations,\n",
    "        \"categories\": coco['categories']\n",
    "    }\n",
    "\n",
    "    # Create output folder for JSON if it doesn't exist\n",
    "    os.makedirs(os.path.dirname(output_json_path), exist_ok=True)\n",
    "\n",
    "    with open(output_json_path, 'w', encoding='utf-8') as f:\n",
    "        json.dump(augmented_coco, f, indent=2)\n",
    "\n",
    "    print(\"Data augmentation complete and saved.\")\n"
   ]
  },
  {
   "cell_type": "code",
   "execution_count": 18,
   "id": "1068bd0e",
   "metadata": {},
   "outputs": [
    {
     "name": "stderr",
     "output_type": "stream",
     "text": [
      "Augmenting images: 100%|██████████| 665/665 [06:04<00:00,  1.82it/s]"
     ]
    },
    {
     "name": "stdout",
     "output_type": "stream",
     "text": [
      "Data augmentation complete and saved.\n"
     ]
    },
    {
     "name": "stderr",
     "output_type": "stream",
     "text": [
      "\n"
     ]
    }
   ],
   "source": [
    "create_subset_data_augmentation(\n",
    "    image_folder_path='datasets/unified_dataset/images',\n",
    "    coco_json_path='datasets/unified_dataset/subsets/train.json',\n",
    "    output_image_folder_path='datasets/unified_dataset/train_augmented/images',\n",
    "    output_json_path='datasets/unified_dataset/train_augmented/train_augmented.json',\n",
    "    num_augmentations=4\n",
    ")"
   ]
  },
  {
   "cell_type": "markdown",
   "id": "5c7c0c8b",
   "metadata": {},
   "source": [
    "### 5.2 Verificacion de BBOX"
   ]
  },
  {
   "cell_type": "code",
   "execution_count": 12,
   "id": "70dbc22b",
   "metadata": {},
   "outputs": [],
   "source": [
    "import os\n",
    "from PIL import Image, ImageDraw\n",
    "from pycocotools.coco import COCO\n",
    "import random"
   ]
  },
  {
   "cell_type": "code",
   "execution_count": 19,
   "id": "b7837856",
   "metadata": {},
   "outputs": [],
   "source": [
    "def save_coco_bboxes_to_images(image_dir, annotation_path, output_dir='output', max_images=None):\n",
    "    \"\"\"\n",
    "    Save images with bounding boxes drawn from COCO annotations.\n",
    "\n",
    "    Parameters:\n",
    "        image_dir (str): Directory containing the images.\n",
    "        annotation_path (str): Full path to the COCO annotation file.\n",
    "        output_dir (str): Directory to save output images with drawn bounding boxes.\n",
    "        max_images (int, optional): If provided, randomly selects up to this number of images (without repetition).\n",
    "    \"\"\"\n",
    "    os.makedirs(output_dir, exist_ok=True)\n",
    "    coco = COCO(annotation_path)\n",
    "    image_ids = coco.getImgIds()\n",
    "\n",
    "    if max_images is not None and max_images < len(image_ids):\n",
    "        image_ids = random.sample(image_ids, max_images)\n",
    "\n",
    "    for img_id in image_ids:\n",
    "        img_data = coco.loadImgs(img_id)[0]\n",
    "        img_path = os.path.join(image_dir, img_data['file_name'])\n",
    "        output_path = os.path.join(output_dir, img_data['file_name'])\n",
    "\n",
    "        if not os.path.exists(img_path):\n",
    "            print(f\"[WARNING] Image file not found: {img_path}\")\n",
    "            continue\n",
    "\n",
    "        image = Image.open(img_path).convert(\"RGB\")\n",
    "        draw = ImageDraw.Draw(image)\n",
    "\n",
    "        ann_ids = coco.getAnnIds(imgIds=img_id)\n",
    "        anns = coco.loadAnns(ann_ids)\n",
    "\n",
    "        for ann in anns:\n",
    "            x, y, w, h = ann['bbox']\n",
    "            draw.rectangle([x, y, x + w, y + h], outline='red', width=3)\n",
    "\n",
    "        image.save(output_path)\n"
   ]
  },
  {
   "cell_type": "code",
   "execution_count": 20,
   "id": "119c1057",
   "metadata": {},
   "outputs": [
    {
     "name": "stdout",
     "output_type": "stream",
     "text": [
      "loading annotations into memory...\n",
      "Done (t=0.04s)\n",
      "creating index...\n",
      "index created!\n"
     ]
    }
   ],
   "source": [
    "save_coco_bboxes_to_images(\n",
    "    image_dir='datasets/unified_dataset/train_augmented/images',\n",
    "    annotation_path='datasets/unified_dataset/train_augmented/train_augmented.json',\n",
    "    output_dir='datasets/unified_dataset/train_augmented/images_bbox_test',\n",
    "    max_images=10\n",
    ")\n"
   ]
  }
 ],
 "metadata": {
  "kernelspec": {
   "display_name": "base",
   "language": "python",
   "name": "python3"
  },
  "language_info": {
   "codemirror_mode": {
    "name": "ipython",
    "version": 3
   },
   "file_extension": ".py",
   "mimetype": "text/x-python",
   "name": "python",
   "nbconvert_exporter": "python",
   "pygments_lexer": "ipython3",
   "version": "3.12.3"
  }
 },
 "nbformat": 4,
 "nbformat_minor": 5
}
