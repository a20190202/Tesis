{
 "cells": [
  {
   "cell_type": "code",
   "execution_count": null,
   "metadata": {},
   "outputs": [],
   "source": [
    "import os\n",
    "\n",
    "def read_image_names(folder_train_map):\n",
    "    \"\"\"\n",
    "    Reads image names and extensions from test, custom train, and valid subfolders \n",
    "    for the given folder names and custom train folder mapping.\n",
    "\n",
    "    Args:\n",
    "        folder_train_map (dict): Dictionary mapping folder names to custom train folder names.\n",
    "\n",
    "    Returns:\n",
    "        dict: A dictionary with folder names as keys and sub-dictionaries \n",
    "              for splits (test, train, valid), each containing a set of image names.\n",
    "    \"\"\"\n",
    "    image_data = {folder: {'test': set(), 'train': set(), 'valid': set()} for folder in folder_train_map}\n",
    "\n",
    "    for folder, train_name in folder_train_map.items():\n",
    "        for split in ['test', 'valid']:\n",
    "            split_path = os.path.join(folder, split, 'images')\n",
    "            if os.path.exists(split_path):\n",
    "                image_data[folder][split].update(os.listdir(split_path))\n",
    "\n",
    "        # Handle custom train folder\n",
    "        train_path = os.path.join(folder, train_name, 'images')\n",
    "        if os.path.exists(train_path):\n",
    "            image_data[folder]['train'].update(os.listdir(train_path))\n",
    "\n",
    "    return image_data\n"
   ]
  },
  {
   "cell_type": "code",
   "execution_count": null,
   "metadata": {},
   "outputs": [],
   "source": [
    "if __name__ == \"__main__\":\n",
    "    # Step 1: Define folders\n",
    "    folders = [\n",
    "        'ANPR2.v1i.yolov8',\n",
    "        'NumberPlates.v1i.yolov8',\n",
    "        'Peru License Plate.v7i.yolov8',\n",
    "        'Peru Plate Numbers.v3i.yolov8'\n",
    "    ]\n",
    "\n",
    "    # Step 2: Read image names\n",
    "    image_data = read_image_names(folders)\n",
    "\n",
    "    # Step 3: Display image counts\n",
    "    print(\"Image counts:\")\n",
    "    count_images(image_data)"
   ]
  }
 ],
 "metadata": {
  "language_info": {
   "name": "python"
  }
 },
 "nbformat": 4,
 "nbformat_minor": 2
}
