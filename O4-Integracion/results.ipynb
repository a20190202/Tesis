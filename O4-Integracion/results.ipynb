{
 "cells": [
  {
   "cell_type": "markdown",
   "id": "fa9e41e9",
   "metadata": {},
   "source": [
    "# 1. Modelos"
   ]
  },
  {
   "cell_type": "code",
   "execution_count": 3,
   "id": "a5bb972a",
   "metadata": {},
   "outputs": [],
   "source": [
    "import os\n",
    "import cv2\n",
    "from ultralytics import YOLO"
   ]
  },
  {
   "cell_type": "code",
   "execution_count": 5,
   "id": "38a872b5",
   "metadata": {},
   "outputs": [],
   "source": [
    "def run_yolo_inference(model_path, input_dir, output_dir, conf_threshold=0.25):\n",
    "    os.makedirs(output_dir, exist_ok=True)\n",
    "\n",
    "    model = YOLO(model_path)\n",
    "    image_files = [f for f in os.listdir(input_dir) if f.lower().endswith(('.jpg', '.jpeg', '.png', '.bmp'))]\n",
    "\n",
    "    for img_name in image_files:\n",
    "        input_path = os.path.join(input_dir, img_name)\n",
    "        output_path = os.path.join(output_dir, img_name)\n",
    "\n",
    "        img = cv2.imread(input_path)\n",
    "        if img is None:\n",
    "            print(f\"Failed to read {input_path}\")\n",
    "            continue\n",
    "\n",
    "        results = model(img)[0]\n",
    "\n",
    "        for box in results.boxes:\n",
    "            cls_id = int(box.cls[0])\n",
    "            conf = float(box.conf[0])\n",
    "            if conf < conf_threshold:\n",
    "                continue\n",
    "            x1, y1, x2, y2 = map(int, box.xyxy[0])\n",
    "            label = f\"{model.names[cls_id]} {conf:.2f}\"\n",
    "            cv2.rectangle(img, (x1, y1), (x2, y2), (0, 255, 0), 2)\n",
    "            cv2.putText(img, label, (x1, y1 - 5), cv2.FONT_HERSHEY_SIMPLEX, 0.5, (0, 255, 0), 1)\n",
    "\n",
    "        cv2.imwrite(output_path, img)"
   ]
  },
  {
   "cell_type": "code",
   "execution_count": 6,
   "id": "32fb2d3b",
   "metadata": {},
   "outputs": [
    {
     "name": "stdout",
     "output_type": "stream",
     "text": [
      "\n",
      "\n",
      "0: 640x640 1 DFSK_Glory_330, 65.0ms\n",
      "0: 640x640 1 DFSK_Glory_330, 65.0ms\n",
      "Speed: 1.3ms preprocess, 65.0ms inference, 1.0ms postprocess per image at shape (1, 3, 640, 640)\n",
      "Speed: 1.3ms preprocess, 65.0ms inference, 1.0ms postprocess per image at shape (1, 3, 640, 640)\n",
      "\n",
      "\n",
      "0: 640x640 (no detections), 50.5ms\n",
      "0: 640x640 (no detections), 50.5ms\n",
      "Speed: 1.2ms preprocess, 50.5ms inference, 0.3ms postprocess per image at shape (1, 3, 640, 640)\n",
      "Speed: 1.2ms preprocess, 50.5ms inference, 0.3ms postprocess per image at shape (1, 3, 640, 640)\n",
      "\n",
      "\n",
      "0: 640x640 (no detections), 50.2ms\n",
      "0: 640x640 (no detections), 50.2ms\n",
      "Speed: 1.2ms preprocess, 50.2ms inference, 0.3ms postprocess per image at shape (1, 3, 640, 640)\n",
      "Speed: 1.2ms preprocess, 50.2ms inference, 0.3ms postprocess per image at shape (1, 3, 640, 640)\n",
      "\n",
      "\n",
      "0: 640x640 1 Hyundai_i20, 47.8ms\n",
      "0: 640x640 1 Hyundai_i20, 47.8ms\n",
      "Speed: 1.4ms preprocess, 47.8ms inference, 0.6ms postprocess per image at shape (1, 3, 640, 640)\n",
      "Speed: 1.4ms preprocess, 47.8ms inference, 0.6ms postprocess per image at shape (1, 3, 640, 640)\n",
      "\n",
      "\n",
      "0: 640x640 1 Chevrolet_Tracker, 46.7ms\n",
      "0: 640x640 1 Chevrolet_Tracker, 46.7ms\n",
      "Speed: 1.2ms preprocess, 46.7ms inference, 0.5ms postprocess per image at shape (1, 3, 640, 640)\n",
      "Speed: 1.2ms preprocess, 46.7ms inference, 0.5ms postprocess per image at shape (1, 3, 640, 640)\n",
      "\n",
      "\n",
      "0: 640x640 1 Hyundai_Tucson, 64.4ms\n",
      "0: 640x640 1 Hyundai_Tucson, 64.4ms\n",
      "Speed: 1.2ms preprocess, 64.4ms inference, 0.5ms postprocess per image at shape (1, 3, 640, 640)\n",
      "Speed: 1.2ms preprocess, 64.4ms inference, 0.5ms postprocess per image at shape (1, 3, 640, 640)\n",
      "\n",
      "\n",
      "0: 640x640 1 DFSK_Glory_330, 55.8ms\n",
      "0: 640x640 1 DFSK_Glory_330, 55.8ms\n",
      "Speed: 1.2ms preprocess, 55.8ms inference, 0.4ms postprocess per image at shape (1, 3, 640, 640)\n",
      "Speed: 1.2ms preprocess, 55.8ms inference, 0.4ms postprocess per image at shape (1, 3, 640, 640)\n",
      "\n",
      "\n",
      "0: 480x640 1 Toyota_Supra, 50.2ms\n",
      "0: 480x640 1 Toyota_Supra, 50.2ms\n",
      "Speed: 1.4ms preprocess, 50.2ms inference, 0.4ms postprocess per image at shape (1, 3, 480, 640)\n",
      "Speed: 1.4ms preprocess, 50.2ms inference, 0.4ms postprocess per image at shape (1, 3, 480, 640)\n",
      "\n",
      "\n",
      "0: 480x640 1 Hyundai_Sonata, 1 Hyundai_Tucson, 43.3ms\n",
      "0: 480x640 1 Hyundai_Sonata, 1 Hyundai_Tucson, 43.3ms\n",
      "Speed: 1.6ms preprocess, 43.3ms inference, 0.5ms postprocess per image at shape (1, 3, 480, 640)\n",
      "Speed: 1.6ms preprocess, 43.3ms inference, 0.5ms postprocess per image at shape (1, 3, 480, 640)\n",
      "\n",
      "\n",
      "0: 480x640 1 Toyota_Supra, 44.3ms\n",
      "0: 480x640 1 Toyota_Supra, 44.3ms\n",
      "Speed: 1.4ms preprocess, 44.3ms inference, 0.4ms postprocess per image at shape (1, 3, 480, 640)\n",
      "Speed: 1.4ms preprocess, 44.3ms inference, 0.4ms postprocess per image at shape (1, 3, 480, 640)\n",
      "\n",
      "\n",
      "0: 480x640 1 DFSK_Glory_580, 1 Kia_Niro, 43.4ms\n",
      "0: 480x640 1 DFSK_Glory_580, 1 Kia_Niro, 43.4ms\n",
      "Speed: 1.4ms preprocess, 43.4ms inference, 0.4ms postprocess per image at shape (1, 3, 480, 640)\n",
      "Speed: 1.4ms preprocess, 43.4ms inference, 0.4ms postprocess per image at shape (1, 3, 480, 640)\n",
      "\n",
      "\n",
      "0: 480x640 1 DFSK_Glory_580, 1 Toyota_C-HR, 50.4ms\n",
      "0: 480x640 1 DFSK_Glory_580, 1 Toyota_C-HR, 50.4ms\n",
      "Speed: 1.6ms preprocess, 50.4ms inference, 0.4ms postprocess per image at shape (1, 3, 480, 640)\n",
      "Speed: 1.6ms preprocess, 50.4ms inference, 0.4ms postprocess per image at shape (1, 3, 480, 640)\n",
      "\n",
      "\n",
      "0: 640x640 (no detections), 53.5ms\n",
      "0: 640x640 (no detections), 53.5ms\n",
      "Speed: 1.2ms preprocess, 53.5ms inference, 0.3ms postprocess per image at shape (1, 3, 640, 640)\n",
      "Speed: 1.2ms preprocess, 53.5ms inference, 0.3ms postprocess per image at shape (1, 3, 640, 640)\n",
      "\n",
      "\n",
      "0: 480x640 (no detections), 47.9ms\n",
      "0: 480x640 (no detections), 47.9ms\n",
      "Speed: 1.7ms preprocess, 47.9ms inference, 0.2ms postprocess per image at shape (1, 3, 480, 640)\n",
      "Speed: 1.7ms preprocess, 47.9ms inference, 0.2ms postprocess per image at shape (1, 3, 480, 640)\n",
      "\n",
      "\n",
      "0: 480x640 1 Hyundai_Santa_Fe, 44.7ms\n",
      "0: 480x640 1 Hyundai_Santa_Fe, 44.7ms\n",
      "Speed: 1.7ms preprocess, 44.7ms inference, 0.4ms postprocess per image at shape (1, 3, 480, 640)\n",
      "Speed: 1.7ms preprocess, 44.7ms inference, 0.4ms postprocess per image at shape (1, 3, 480, 640)\n",
      "\n",
      "\n",
      "0: 480x640 1 Hyundai_Veloster, 39.3ms\n",
      "0: 480x640 1 Hyundai_Veloster, 39.3ms\n",
      "Speed: 1.5ms preprocess, 39.3ms inference, 0.4ms postprocess per image at shape (1, 3, 480, 640)\n",
      "Speed: 1.5ms preprocess, 39.3ms inference, 0.4ms postprocess per image at shape (1, 3, 480, 640)\n",
      "\n",
      "\n",
      "0: 480x640 (no detections), 49.6ms\n",
      "0: 480x640 (no detections), 49.6ms\n",
      "Speed: 1.6ms preprocess, 49.6ms inference, 0.3ms postprocess per image at shape (1, 3, 480, 640)\n",
      "Speed: 1.6ms preprocess, 49.6ms inference, 0.3ms postprocess per image at shape (1, 3, 480, 640)\n",
      "\n",
      "\n",
      "0: 480x640 1 Toyota_Corolla, 43.4ms\n",
      "0: 480x640 1 Toyota_Corolla, 43.4ms\n",
      "Speed: 1.7ms preprocess, 43.4ms inference, 0.4ms postprocess per image at shape (1, 3, 480, 640)\n",
      "Speed: 1.7ms preprocess, 43.4ms inference, 0.4ms postprocess per image at shape (1, 3, 480, 640)\n",
      "\n",
      "\n",
      "0: 480x640 1 Changan_CS35, 42.1ms\n",
      "0: 480x640 1 Changan_CS35, 42.1ms\n",
      "Speed: 1.7ms preprocess, 42.1ms inference, 0.5ms postprocess per image at shape (1, 3, 480, 640)\n",
      "Speed: 1.7ms preprocess, 42.1ms inference, 0.5ms postprocess per image at shape (1, 3, 480, 640)\n",
      "\n",
      "\n",
      "0: 640x640 1 Chevrolet_Spark, 52.0ms\n",
      "0: 640x640 1 Chevrolet_Spark, 52.0ms\n",
      "Speed: 1.3ms preprocess, 52.0ms inference, 0.5ms postprocess per image at shape (1, 3, 640, 640)\n",
      "Speed: 1.3ms preprocess, 52.0ms inference, 0.5ms postprocess per image at shape (1, 3, 640, 640)\n",
      "\n",
      "\n",
      "0: 640x640 (no detections), 48.0ms\n",
      "0: 640x640 (no detections), 48.0ms\n",
      "Speed: 1.2ms preprocess, 48.0ms inference, 0.3ms postprocess per image at shape (1, 3, 640, 640)\n",
      "Speed: 1.2ms preprocess, 48.0ms inference, 0.3ms postprocess per image at shape (1, 3, 640, 640)\n",
      "\n",
      "\n",
      "0: 640x640 1 Hyundai_Accent, 45.7ms\n",
      "0: 640x640 1 Hyundai_Accent, 45.7ms\n",
      "Speed: 1.2ms preprocess, 45.7ms inference, 0.4ms postprocess per image at shape (1, 3, 640, 640)\n",
      "Speed: 1.2ms preprocess, 45.7ms inference, 0.4ms postprocess per image at shape (1, 3, 640, 640)\n",
      "\n",
      "\n",
      "0: 640x640 1 Suzuki_Vitara, 46.8ms\n",
      "0: 640x640 1 Suzuki_Vitara, 46.8ms\n",
      "Speed: 1.2ms preprocess, 46.8ms inference, 0.5ms postprocess per image at shape (1, 3, 640, 640)\n",
      "Speed: 1.2ms preprocess, 46.8ms inference, 0.5ms postprocess per image at shape (1, 3, 640, 640)\n",
      "\n",
      "\n",
      "0: 640x640 (no detections), 45.5ms\n",
      "0: 640x640 (no detections), 45.5ms\n",
      "Speed: 1.2ms preprocess, 45.5ms inference, 0.3ms postprocess per image at shape (1, 3, 640, 640)\n",
      "Speed: 1.2ms preprocess, 45.5ms inference, 0.3ms postprocess per image at shape (1, 3, 640, 640)\n",
      "\n",
      "\n",
      "0: 640x640 (no detections), 51.6ms\n",
      "0: 640x640 (no detections), 51.6ms\n",
      "Speed: 1.3ms preprocess, 51.6ms inference, 0.3ms postprocess per image at shape (1, 3, 640, 640)\n",
      "Speed: 1.3ms preprocess, 51.6ms inference, 0.3ms postprocess per image at shape (1, 3, 640, 640)\n",
      "\n",
      "\n",
      "0: 640x640 1 Changan_New_Van, 58.1ms\n",
      "0: 640x640 1 Changan_New_Van, 58.1ms\n",
      "Speed: 1.3ms preprocess, 58.1ms inference, 0.4ms postprocess per image at shape (1, 3, 640, 640)\n",
      "Speed: 1.3ms preprocess, 58.1ms inference, 0.4ms postprocess per image at shape (1, 3, 640, 640)\n",
      "\n",
      "\n",
      "0: 640x640 1 Hyundai_i20, 58.5ms\n",
      "0: 640x640 1 Hyundai_i20, 58.5ms\n",
      "Speed: 1.1ms preprocess, 58.5ms inference, 0.5ms postprocess per image at shape (1, 3, 640, 640)\n",
      "Speed: 1.1ms preprocess, 58.5ms inference, 0.5ms postprocess per image at shape (1, 3, 640, 640)\n",
      "\n",
      "\n",
      "0: 640x640 1 Toyota_Corolla, 48.1ms\n",
      "0: 640x640 1 Toyota_Corolla, 48.1ms\n",
      "Speed: 1.2ms preprocess, 48.1ms inference, 0.4ms postprocess per image at shape (1, 3, 640, 640)\n",
      "Speed: 1.2ms preprocess, 48.1ms inference, 0.4ms postprocess per image at shape (1, 3, 640, 640)\n",
      "\n",
      "\n",
      "0: 640x640 1 DFSK_Glory_500, 59.3ms\n",
      "0: 640x640 1 DFSK_Glory_500, 59.3ms\n",
      "Speed: 1.1ms preprocess, 59.3ms inference, 0.4ms postprocess per image at shape (1, 3, 640, 640)\n",
      "Speed: 1.1ms preprocess, 59.3ms inference, 0.4ms postprocess per image at shape (1, 3, 640, 640)\n"
     ]
    }
   ],
   "source": [
    "model_path = \"weights/carmodel/best.pt\"\n",
    "input_dir = \"O4_test_images\"\n",
    "output_dir = \"O4_test_images_results\"\n",
    "run_yolo_inference(model_path, input_dir, output_dir)"
   ]
  },
  {
   "cell_type": "code",
   "execution_count": 7,
   "id": "3c188c88",
   "metadata": {},
   "outputs": [],
   "source": [
    "model = YOLO(model_path)"
   ]
  },
  {
   "cell_type": "code",
   "execution_count": 9,
   "id": "4a4a3067",
   "metadata": {},
   "outputs": [
    {
     "name": "stdout",
     "output_type": "stream",
     "text": [
      "{0: 'Changan_CS35', 1: 'Changan_CS55', 2: 'Changan_New_Van', 3: 'Chevrolet_Camaro', 4: 'Chevrolet_Cruze', 5: 'Chevrolet_Onix', 6: 'Chevrolet_Spark', 7: 'Chevrolet_Tracker', 8: 'DFSK_Glory_330', 9: 'DFSK_Glory_500', 10: 'DFSK_Glory_580', 11: 'Hyundai_Accent', 12: 'Hyundai_Creta', 13: 'Hyundai_Elantra', 14: 'Hyundai_i20', 15: 'Hyundai_Santa_Fe', 16: 'Hyundai_Sonata', 17: 'Hyundai_Tucson', 18: 'Hyundai_Veloster', 19: 'JAC_JS4', 20: 'JAC_T8', 21: 'Kia_Niro', 22: 'Kia_Rio', 23: 'Kia_Seltos', 24: 'Kia_Sorento', 25: 'Kia_Soul', 26: 'Kia_Sportage', 27: 'Nissan_Kicks', 28: 'Nissan_Sentra', 29: 'Nissan_Versa', 30: 'Suzuki_Jimny', 31: 'Suzuki_Swift', 32: 'Suzuki_Vitara', 33: 'Toyota_4Runner', 34: 'Toyota_C-HR', 35: 'Toyota_Camry', 36: 'Toyota_Celica', 37: 'Toyota_Corolla', 38: 'Toyota_Corolla_Cross', 39: 'Toyota_FJ_Cruiser', 40: 'Toyota_Hilux', 41: 'Toyota_Land_Cruiser', 42: 'Toyota_Prius', 43: 'Toyota_RAV4', 44: 'Toyota_Rush', 45: 'Toyota_Supra', 46: 'Toyota_Tercel', 47: 'Toyota_Yaris', 48: 'Volkswagen_Golf', 49: 'Volkswagen_Tiguan'}\n"
     ]
    }
   ],
   "source": [
    "print(model.names)"
   ]
  },
  {
   "cell_type": "code",
   "execution_count": 11,
   "id": "6d8182e6",
   "metadata": {},
   "outputs": [],
   "source": [
    "import os\n",
    "import cv2"
   ]
  },
  {
   "cell_type": "code",
   "execution_count": 12,
   "id": "4de41dff",
   "metadata": {},
   "outputs": [],
   "source": [
    "def draw_yolo_bboxes(image_dir, label_dir, output_dir, class_dict, image_ext=\".jpg\"):\n",
    "    os.makedirs(output_dir, exist_ok=True)\n",
    "    for filename in os.listdir(image_dir):\n",
    "        if not filename.endswith(image_ext):\n",
    "            continue\n",
    "        image_path = os.path.join(image_dir, filename)\n",
    "        label_path = os.path.join(label_dir, os.path.splitext(filename)[0] + \".txt\")\n",
    "        output_path = os.path.join(output_dir, filename)\n",
    "\n",
    "        image = cv2.imread(image_path)\n",
    "        if image is None or not os.path.exists(label_path):\n",
    "            continue\n",
    "\n",
    "        h, w = image.shape[:2]\n",
    "        with open(label_path, \"r\") as f:\n",
    "            for line in f:\n",
    "                parts = line.strip().split()\n",
    "                cls_id, cx, cy, bw, bh = map(float, parts)\n",
    "                cls_name = class_dict.get(int(cls_id), str(cls_id))\n",
    "\n",
    "                x1 = int((cx - bw / 2) * w)\n",
    "                y1 = int((cy - bh / 2) * h)\n",
    "                x2 = int((cx + bw / 2) * w)\n",
    "                y2 = int((cy + bh / 2) * h)\n",
    "\n",
    "                cv2.rectangle(image, (x1, y1), (x2, y2), (0, 255, 0), 2)\n",
    "                cv2.putText(image, cls_name, (x1, y1 - 5), cv2.FONT_HERSHEY_SIMPLEX, 0.5, (0, 255, 0), 1)\n",
    "\n",
    "        cv2.imwrite(output_path, image)"
   ]
  },
  {
   "cell_type": "code",
   "execution_count": 13,
   "id": "647f7dc5",
   "metadata": {},
   "outputs": [],
   "source": [
    "class_dict = model.names\n",
    "draw_yolo_bboxes(\"O4_test_images/\", \"O4_test_labels/\", \"O4_test_labels_results/\", class_dict)"
   ]
  },
  {
   "cell_type": "code",
   "execution_count": 14,
   "id": "d16a8897",
   "metadata": {},
   "outputs": [],
   "source": [
    "data_path = 'data_custom_car_model.yaml'\n",
    "imgsz = 640"
   ]
  },
  {
   "cell_type": "code",
   "execution_count": 18,
   "id": "f73361ba",
   "metadata": {},
   "outputs": [
    {
     "name": "stdout",
     "output_type": "stream",
     "text": [
      "Ultralytics 8.3.114  Python-3.13.3 torch-2.7.0+cpu CPU (AMD Ryzen 9 7900X 12-Core Processor)\n",
      "Ultralytics 8.3.114  Python-3.13.3 torch-2.7.0+cpu CPU (AMD Ryzen 9 7900X 12-Core Processor)\n",
      "\u001b[34m\u001b[1mval: \u001b[0mFast image access  (ping: 0.00.0 ms, read: 1210.4991.0 MB/s, size: 243.9 KB)\n",
      "\u001b[34m\u001b[1mval: \u001b[0mFast image access  (ping: 0.00.0 ms, read: 1210.4991.0 MB/s, size: 243.9 KB)\n"
     ]
    },
    {
     "name": "stderr",
     "output_type": "stream",
     "text": [
      "\u001b[34m\u001b[1mval: \u001b[0mScanning E:\\Github\\Tesis\\O4-Integracion\\O4_test\\labels... 29 images, 0 backgrounds, 0 corrupt: 100%|██████████| 29/29 [00:00<00:00, 160.72it/s]\n"
     ]
    },
    {
     "name": "stdout",
     "output_type": "stream",
     "text": [
      "\u001b[34m\u001b[1mval: \u001b[0mNew cache created: E:\\Github\\Tesis\\O4-Integracion\\O4_test\\labels.cache\n",
      "\u001b[34m\u001b[1mval: \u001b[0mNew cache created: E:\\Github\\Tesis\\O4-Integracion\\O4_test\\labels.cache\n"
     ]
    },
    {
     "name": "stderr",
     "output_type": "stream",
     "text": [
      "e:\\Github\\Tesis\\venv\\Lib\\site-packages\\torch\\utils\\data\\dataloader.py:665: UserWarning: 'pin_memory' argument is set as true but no accelerator is found, then device pinned memory won't be used.\n",
      "  warnings.warn(warn_msg)\n",
      "                 Class     Images  Instances      Box(P          R      mAP50  mAP50-95): 100%|██████████| 2/2 [00:02<00:00,  1.15s/it]\n"
     ]
    },
    {
     "name": "stdout",
     "output_type": "stream",
     "text": [
      "                   all         29         30      0.495      0.297      0.309      0.271\n",
      "                   all         29         30      0.495      0.297      0.309      0.271\n",
      "          Changan_CS35          1          1          0          0          0          0\n",
      "          Changan_CS35          1          1          0          0          0          0\n",
      "        Hyundai_Accent          5          5      0.503        0.2      0.253      0.152\n",
      "        Hyundai_Accent          5          5      0.503        0.2      0.253      0.152\n",
      "       Hyundai_Elantra          2          2          1          0          0          0\n",
      "       Hyundai_Elantra          2          2          1          0          0          0\n",
      "      Hyundai_Santa_Fe          1          1      0.196          1      0.249      0.249\n",
      "      Hyundai_Santa_Fe          1          1      0.196          1      0.249      0.249\n",
      "        Hyundai_Tucson          1          1          0          0          0          0\n",
      "        Hyundai_Tucson          1          1          0          0          0          0\n",
      "               Kia_Rio          4          4          1          0      0.217      0.152\n",
      "               Kia_Rio          4          4          1          0      0.217      0.152\n",
      "          Kia_Sportage          1          1          0          0          0          0\n",
      "          Kia_Sportage          1          1          0          0          0          0\n",
      "         Nissan_Sentra          1          1       0.62          1      0.995      0.895\n",
      "         Nissan_Sentra          1          1       0.62          1      0.995      0.895\n",
      "          Nissan_Versa          1          1          1          0      0.332      0.298\n",
      "          Nissan_Versa          1          1          1          0      0.332      0.298\n",
      "          Suzuki_Swift          3          3          0          0          0          0\n",
      "          Suzuki_Swift          3          3          0          0          0          0\n",
      "        Toyota_Corolla          3          3      0.428      0.667      0.721      0.655\n",
      "        Toyota_Corolla          3          3      0.428      0.667      0.721      0.655\n",
      "          Toyota_Hilux          1          1      0.685          1      0.995      0.895\n",
      "          Toyota_Hilux          1          1      0.685          1      0.995      0.895\n",
      "          Toyota_Yaris          6          6          1          0      0.249      0.224\n",
      "          Toyota_Yaris          6          6          1          0      0.249      0.224\n",
      "Speed: 0.9ms preprocess, 63.7ms inference, 0.0ms loss, 0.3ms postprocess per image\n",
      "Speed: 0.9ms preprocess, 63.7ms inference, 0.0ms loss, 0.3ms postprocess per image\n",
      "Results saved to \u001b[1me:\\Github\\Tesis\\runs\\detect\\val4\u001b[0m\n",
      "Results saved to \u001b[1me:\\Github\\Tesis\\runs\\detect\\val4\u001b[0m\n"
     ]
    }
   ],
   "source": [
    "results = model.val(\n",
    "    data=data_path,\n",
    "    split='test',\n",
    "    imgsz=imgsz\n",
    ")"
   ]
  },
  {
   "cell_type": "code",
   "execution_count": null,
   "id": "22de1cd8",
   "metadata": {},
   "outputs": [],
   "source": []
  },
  {
   "cell_type": "markdown",
   "id": "3cf05003",
   "metadata": {},
   "source": [
    "# 2. Histograma de F1 Score"
   ]
  },
  {
   "cell_type": "code",
   "execution_count": 1,
   "id": "697440ca",
   "metadata": {},
   "outputs": [],
   "source": [
    "import pandas as pd\n",
    "import matplotlib.pyplot as plt\n",
    "import numpy as np"
   ]
  },
  {
   "cell_type": "code",
   "execution_count": 5,
   "id": "f1c0ce15",
   "metadata": {},
   "outputs": [],
   "source": [
    "import pandas as pd\n",
    "import matplotlib.pyplot as plt\n",
    "import numpy as np\n",
    "\n",
    "def save_f1_histogram_from_excel(excel_path, output_img_path):\n",
    "    df = pd.read_excel(excel_path)\n",
    "    df = df[df[\"Class\"] != \"all\"]\n",
    "    df[\"F1\"] = pd.to_numeric(df[\"F1\"], errors='coerce')\n",
    "    df = df.dropna(subset=[\"F1\"])\n",
    "\n",
    "    bins = np.arange(0.0, 1.1, 0.1)\n",
    "\n",
    "    plt.figure(figsize=(10, 6))\n",
    "    counts, edges, bars = plt.hist(df[\"F1\"], bins=bins, edgecolor='black', align='mid')\n",
    "\n",
    "    plt.xticks(bins)\n",
    "    plt.xlim(0.0, 1.0)  # Fuerza los límites del eje X\n",
    "\n",
    "    plt.xlabel(\"F1 Score\")\n",
    "    plt.ylabel(\"Frecuencia\")\n",
    "    plt.title(\"Histograma de F1 Score por clase\")\n",
    "\n",
    "    # Etiquetas de frecuencia sobre cada barra\n",
    "    for count, edge in zip(counts, edges[:-1]):\n",
    "        center = edge + 0.05  # centro del bin\n",
    "        if count > 0:\n",
    "            plt.text(center, count, int(count), ha='center', va='bottom', fontsize=10)\n",
    "\n",
    "    plt.tight_layout()\n",
    "    plt.savefig(output_img_path)\n",
    "    plt.close()\n"
   ]
  },
  {
   "cell_type": "code",
   "execution_count": 6,
   "id": "eef0784d",
   "metadata": {},
   "outputs": [],
   "source": [
    "output_csv_path = \"O4_models/class_metrics_f1.xlsx\"\n",
    "output_img_path = \"O4_models/f1_histogram.jpg\"\n",
    "save_f1_histogram_from_excel(output_csv_path, output_img_path)"
   ]
  },
  {
   "cell_type": "code",
   "execution_count": null,
   "id": "f4dc3194",
   "metadata": {},
   "outputs": [],
   "source": []
  }
 ],
 "metadata": {
  "kernelspec": {
   "display_name": "venv",
   "language": "python",
   "name": "python3"
  },
  "language_info": {
   "codemirror_mode": {
    "name": "ipython",
    "version": 3
   },
   "file_extension": ".py",
   "mimetype": "text/x-python",
   "name": "python",
   "nbconvert_exporter": "python",
   "pygments_lexer": "ipython3",
   "version": "3.13.3"
  }
 },
 "nbformat": 4,
 "nbformat_minor": 5
}
