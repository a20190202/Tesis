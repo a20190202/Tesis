{
 "cells": [
  {
   "cell_type": "code",
   "execution_count": 1,
   "id": "6d96cb1c",
   "metadata": {},
   "outputs": [],
   "source": [
    "import os\n",
    "import re\n",
    "import matplotlib.pyplot as plt\n",
    "import seaborn as sns\n",
    "import numpy as np\n",
    "\n",
    "# Ruta al directorio que contiene los pesos y resultados\n",
    "input_path = \"darknet/train_results\"\n"
   ]
  },
  {
   "cell_type": "code",
   "execution_count": 2,
   "id": "3b7102c6",
   "metadata": {},
   "outputs": [
    {
     "name": "stdout",
     "output_type": "stream",
     "text": [
      "No se encontró 'results.txt'. Asegúrate de usar el flag `-map` en el entrenamiento.\n"
     ]
    }
   ],
   "source": [
    "def parse_results_txt(results_path):\n",
    "    # Cada línea es: iteration, avg_loss, iou, recall, precision, class_accuracy, mAP\n",
    "    pattern = re.compile(r\"(\\d+)\\s+[\\d\\.]+\\s+avg\\s+loss:\\s+([\\d\\.]+)\\s+.*?IoU:\\s+([\\d\\.]+)\\s+.*?mAP:\\s+([\\d\\.]+)\")\n",
    "\n",
    "    iterations, losses, ious, maps = [], [], [], []\n",
    "\n",
    "    with open(results_path, 'r') as f:\n",
    "        for line in f:\n",
    "            match = pattern.search(line)\n",
    "            if match:\n",
    "                iter_, loss, iou, map_ = match.groups()\n",
    "                iterations.append(int(iter_))\n",
    "                losses.append(float(loss))\n",
    "                ious.append(float(iou))\n",
    "                maps.append(float(map_))\n",
    "\n",
    "    return iterations, losses, ious, maps\n",
    "\n",
    "\n",
    "results_file = os.path.join(input_path, \"results.txt\")\n",
    "\n",
    "if os.path.exists(results_file):\n",
    "    iterations, losses, ious, maps = parse_results_txt(results_file)\n",
    "\n",
    "    plt.figure(figsize=(14, 6))\n",
    "    plt.subplot(1, 2, 1)\n",
    "    plt.plot(iterations, losses, label=\"Loss\")\n",
    "    plt.plot(iterations, ious, label=\"IoU\")\n",
    "    plt.xlabel(\"Iteración\")\n",
    "    plt.ylabel(\"Valor\")\n",
    "    plt.title(\"Loss e IoU por iteración\")\n",
    "    plt.legend()\n",
    "\n",
    "    plt.subplot(1, 2, 2)\n",
    "    plt.plot(iterations, maps, label=\"mAP\", color=\"green\")\n",
    "    plt.xlabel(\"Iteración\")\n",
    "    plt.ylabel(\"mAP\")\n",
    "    plt.title(\"mAP por iteración\")\n",
    "    plt.legend()\n",
    "\n",
    "    plt.tight_layout()\n",
    "    plt.show()\n",
    "else:\n",
    "    print(\"No se encontró 'results.txt'. Asegúrate de usar el flag `-map` en el entrenamiento.\")\n"
   ]
  }
 ],
 "metadata": {
  "kernelspec": {
   "display_name": "base",
   "language": "python",
   "name": "python3"
  },
  "language_info": {
   "codemirror_mode": {
    "name": "ipython",
    "version": 3
   },
   "file_extension": ".py",
   "mimetype": "text/x-python",
   "name": "python",
   "nbconvert_exporter": "python",
   "pygments_lexer": "ipython3",
   "version": "3.12.3"
  }
 },
 "nbformat": 4,
 "nbformat_minor": 5
}
